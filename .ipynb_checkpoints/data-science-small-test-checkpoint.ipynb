{
 "cells": [
  {
   "cell_type": "markdown",
   "metadata": {},
   "source": [
    "# Data Science Small Test\n",
    "For the position of Data Scientist/CRM. You can also access the repository on GitHub: https://github.com/israelmendez232/teste-cientista-dados-crm\n",
    "\n",
    "---\n",
    "\n",
    "We start by configurating the main libraries and reading a piece of the data to understand it better:"
   ]
  },
  {
   "cell_type": "code",
   "execution_count": 110,
   "metadata": {},
   "outputs": [
    {
     "name": "stdout",
     "output_type": "stream",
     "text": [
      "The first 5 lines to see a 'fraction' of the data:\n"
     ]
    },
    {
     "data": {
      "text/html": [
       "<div>\n",
       "<style scoped>\n",
       "    .dataframe tbody tr th:only-of-type {\n",
       "        vertical-align: middle;\n",
       "    }\n",
       "\n",
       "    .dataframe tbody tr th {\n",
       "        vertical-align: top;\n",
       "    }\n",
       "\n",
       "    .dataframe thead th {\n",
       "        text-align: right;\n",
       "    }\n",
       "</style>\n",
       "<table border=\"1\" class=\"dataframe\">\n",
       "  <thead>\n",
       "    <tr style=\"text-align: right;\">\n",
       "      <th></th>\n",
       "      <th>x</th>\n",
       "      <th>y</th>\n",
       "      <th>z</th>\n",
       "      <th>label</th>\n",
       "    </tr>\n",
       "  </thead>\n",
       "  <tbody>\n",
       "    <tr>\n",
       "      <th>0</th>\n",
       "      <td>326.488285</td>\n",
       "      <td>188.988808</td>\n",
       "      <td>-312.205307</td>\n",
       "      <td>0.0</td>\n",
       "    </tr>\n",
       "    <tr>\n",
       "      <th>1</th>\n",
       "      <td>-314.287214</td>\n",
       "      <td>307.276723</td>\n",
       "      <td>-179.037412</td>\n",
       "      <td>1.0</td>\n",
       "    </tr>\n",
       "    <tr>\n",
       "      <th>2</th>\n",
       "      <td>-328.208910</td>\n",
       "      <td>181.627758</td>\n",
       "      <td>446.311062</td>\n",
       "      <td>1.0</td>\n",
       "    </tr>\n",
       "    <tr>\n",
       "      <th>3</th>\n",
       "      <td>-148.658890</td>\n",
       "      <td>147.027947</td>\n",
       "      <td>-27.477959</td>\n",
       "      <td>1.0</td>\n",
       "    </tr>\n",
       "    <tr>\n",
       "      <th>4</th>\n",
       "      <td>-467.065931</td>\n",
       "      <td>250.467651</td>\n",
       "      <td>-306.475330</td>\n",
       "      <td>1.0</td>\n",
       "    </tr>\n",
       "  </tbody>\n",
       "</table>\n",
       "</div>"
      ],
      "text/plain": [
       "            x           y           z  label\n",
       "0  326.488285  188.988808 -312.205307    0.0\n",
       "1 -314.287214  307.276723 -179.037412    1.0\n",
       "2 -328.208910  181.627758  446.311062    1.0\n",
       "3 -148.658890  147.027947  -27.477959    1.0\n",
       "4 -467.065931  250.467651 -306.475330    1.0"
      ]
     },
     "execution_count": 110,
     "metadata": {},
     "output_type": "execute_result"
    }
   ],
   "source": [
    "from sklearn.model_selection import train_test_split\n",
    "from sklearn.linear_model import LogisticRegression\n",
    "from sklearn.metrics import accuracy_score\n",
    "from sklearn import metrics\n",
    "import pandas as pd\n",
    "import numpy as np\n",
    "\n",
    "dfPoints = pd.read_csv(\"df_points.txt\", delimiter=\"\\t\", usecols = [\"x\", \"y\", \"z\", \"label\"])\n",
    "\n",
    "print(\"The first 5 lines to see a 'fraction' of the data:\")\n",
    "dfPoints.head()"
   ]
  },
  {
   "cell_type": "markdown",
   "metadata": {},
   "source": [
    "## Understanding more the data\n",
    "It's good practice to run a few steps to see more about the data in hands. Shuffeling it'll avoid overfitting the model and to help it make better predictions, while as seeing the data types and describing it will assist to see more what you're dealing as information."
   ]
  },
  {
   "cell_type": "code",
   "execution_count": 113,
   "metadata": {},
   "outputs": [
    {
     "name": "stdout",
     "output_type": "stream",
     "text": [
      "1. Mixing and shuffling the data. \n",
      "\n",
      "2. See the data type of the columns:\n",
      "x        float64\n",
      "y        float64\n",
      "z        float64\n",
      "label    float64\n",
      "dtype: object\n",
      "\n",
      "\n",
      "3. More details from a statistical perspective of the data:\n"
     ]
    },
    {
     "data": {
      "text/html": [
       "<div>\n",
       "<style scoped>\n",
       "    .dataframe tbody tr th:only-of-type {\n",
       "        vertical-align: middle;\n",
       "    }\n",
       "\n",
       "    .dataframe tbody tr th {\n",
       "        vertical-align: top;\n",
       "    }\n",
       "\n",
       "    .dataframe thead th {\n",
       "        text-align: right;\n",
       "    }\n",
       "</style>\n",
       "<table border=\"1\" class=\"dataframe\">\n",
       "  <thead>\n",
       "    <tr style=\"text-align: right;\">\n",
       "      <th></th>\n",
       "      <th>x</th>\n",
       "      <th>y</th>\n",
       "      <th>z</th>\n",
       "      <th>label</th>\n",
       "    </tr>\n",
       "  </thead>\n",
       "  <tbody>\n",
       "    <tr>\n",
       "      <th>count</th>\n",
       "      <td>10000.000000</td>\n",
       "      <td>10000.000000</td>\n",
       "      <td>10000.000000</td>\n",
       "      <td>10000.000000</td>\n",
       "    </tr>\n",
       "    <tr>\n",
       "      <th>mean</th>\n",
       "      <td>0.850362</td>\n",
       "      <td>-3.108769</td>\n",
       "      <td>-2.601124</td>\n",
       "      <td>0.502700</td>\n",
       "    </tr>\n",
       "    <tr>\n",
       "      <th>std</th>\n",
       "      <td>288.379928</td>\n",
       "      <td>287.120263</td>\n",
       "      <td>290.379789</td>\n",
       "      <td>0.500018</td>\n",
       "    </tr>\n",
       "    <tr>\n",
       "      <th>min</th>\n",
       "      <td>-499.802348</td>\n",
       "      <td>-499.899134</td>\n",
       "      <td>-499.952571</td>\n",
       "      <td>0.000000</td>\n",
       "    </tr>\n",
       "    <tr>\n",
       "      <th>25%</th>\n",
       "      <td>-249.199895</td>\n",
       "      <td>-248.954580</td>\n",
       "      <td>-258.005693</td>\n",
       "      <td>0.000000</td>\n",
       "    </tr>\n",
       "    <tr>\n",
       "      <th>50%</th>\n",
       "      <td>3.663472</td>\n",
       "      <td>-5.446168</td>\n",
       "      <td>-8.221000</td>\n",
       "      <td>1.000000</td>\n",
       "    </tr>\n",
       "    <tr>\n",
       "      <th>75%</th>\n",
       "      <td>248.879970</td>\n",
       "      <td>244.395864</td>\n",
       "      <td>252.930406</td>\n",
       "      <td>1.000000</td>\n",
       "    </tr>\n",
       "    <tr>\n",
       "      <th>max</th>\n",
       "      <td>499.872453</td>\n",
       "      <td>499.752418</td>\n",
       "      <td>499.872329</td>\n",
       "      <td>1.000000</td>\n",
       "    </tr>\n",
       "  </tbody>\n",
       "</table>\n",
       "</div>"
      ],
      "text/plain": [
       "                  x             y             z         label\n",
       "count  10000.000000  10000.000000  10000.000000  10000.000000\n",
       "mean       0.850362     -3.108769     -2.601124      0.502700\n",
       "std      288.379928    287.120263    290.379789      0.500018\n",
       "min     -499.802348   -499.899134   -499.952571      0.000000\n",
       "25%     -249.199895   -248.954580   -258.005693      0.000000\n",
       "50%        3.663472     -5.446168     -8.221000      1.000000\n",
       "75%      248.879970    244.395864    252.930406      1.000000\n",
       "max      499.872453    499.752418    499.872329      1.000000"
      ]
     },
     "execution_count": 113,
     "metadata": {},
     "output_type": "execute_result"
    }
   ],
   "source": [
    "from sklearn.utils import shuffle\n",
    "print(\"1. Mixing and shuffling the data. \\n\")\n",
    "dfPoints = shuffle(dfPoints)\n",
    "\n",
    "print(\"2. See the data type of the columns:\")\n",
    "print(dfPoints.dtypes)\n",
    "\n",
    "print(\"\\n\\n3. More details from a statistical perspective of the data:\")\n",
    "dfPoints.describe()"
   ]
  },
  {
   "cell_type": "markdown",
   "metadata": {},
   "source": [
    "## Configuration and Training the 1st Model\n",
    "Defining the target and columns for avaliation of the model of **Logistic Regression**."
   ]
  },
  {
   "cell_type": "code",
   "execution_count": 105,
   "metadata": {},
   "outputs": [
    {
     "name": "stdout",
     "output_type": "stream",
     "text": [
      "Accuracy in Logistic Regression: 52.1%\n"
     ]
    }
   ],
   "source": [
    "Y = dfPoints[\"label\"]\n",
    "X = dfPoints[[\"x\", \"y\", \"z\"]]\n",
    "\n",
    "train_X, val_X, train_Y, val_Y = train_test_split(X, Y, test_size=0.3)\n",
    "\n",
    "## Train the model\n",
    "modelLR = LogisticRegression(n_jobs = 1, C = 1e5, solver = \"lbfgs\")\n",
    "modelLR.fit(train_X, train_Y)\n",
    "\n",
    "accuracyLR = (modelLR.score(val_X, val_Y) * 100)\n",
    "print(f\"Accuracy in Logistic Regression: {accuracyLR}%\")"
   ]
  },
  {
   "cell_type": "markdown",
   "metadata": {},
   "source": [
    "## My method\n",
    "In the ideal world, we would need to test several models to see which one performs better, but I'll be limiting to only 3 other models and compare their performance. Which is:\n",
    "\n",
    "- Linear Regression;\n",
    "- Decision Trees;\n",
    "- Random Forest;\n",
    "\n",
    "Here is their test:\n",
    "\n",
    "---\n",
    "\n",
    "### Linear Regression"
   ]
  },
  {
   "cell_type": "code",
   "execution_count": 115,
   "metadata": {},
   "outputs": [
    {
     "name": "stdout",
     "output_type": "stream",
     "text": [
      "Accuracy in Linear Regression: -0.09162687538850633%\n"
     ]
    }
   ],
   "source": [
    "from sklearn import linear_model\n",
    "\n",
    "modelLinR = linear_model.LinearRegression()\n",
    "modelLinR.fit(train_X, train_Y)\n",
    "\n",
    "# Validate and testing the model:\n",
    "accuracyLinR = (modelLinR.score(val_X, val_Y) * 100)\n",
    "print(f\"Accuracy in Linear Regression: {accuracyLinR}%\")"
   ]
  },
  {
   "cell_type": "markdown",
   "metadata": {},
   "source": [
    "### Decision Trees"
   ]
  },
  {
   "cell_type": "code",
   "execution_count": 107,
   "metadata": {},
   "outputs": [
    {
     "name": "stdout",
     "output_type": "stream",
     "text": [
      "Accuracy in Decision Trees: 66.86666666666666%\n"
     ]
    }
   ],
   "source": [
    "from sklearn.tree import DecisionTreeClassifier\n",
    "\n",
    "modelDT = DecisionTreeClassifier()\n",
    "modelDT.fit(train_X, train_Y)\n",
    "\n",
    "# Validate and testing the model:\n",
    "accuracyDT = (modelDT.score(val_X, val_Y) * 100)\n",
    "print(f\"Accuracy in Decision Trees: {accuracyDT}%\")"
   ]
  },
  {
   "cell_type": "markdown",
   "metadata": {},
   "source": [
    "### Random Forest"
   ]
  },
  {
   "cell_type": "code",
   "execution_count": 121,
   "metadata": {},
   "outputs": [
    {
     "name": "stdout",
     "output_type": "stream",
     "text": [
      "Accuracy in Random Forest: 72.06666666666666%\n"
     ]
    }
   ],
   "source": [
    "from sklearn.ensemble import RandomForestClassifier\n",
    "\n",
    "modelRF = RandomForestClassifier(n_estimators = 10)\n",
    "modelRF.fit(train_X, train_Y)\n",
    "\n",
    "# Validate and testing the model:\n",
    "accuracyRF = (modelRF.score(val_X, val_Y) * 100)\n",
    "print(f\"Accuracy in Random Forest: {accuracyRF}%\")"
   ]
  },
  {
   "cell_type": "markdown",
   "metadata": {},
   "source": [
    "---\n",
    "\n",
    "## And what is the Best Model?\n",
    "After the calculations, we can provide a decision which is the best model to solve the problem."
   ]
  },
  {
   "cell_type": "code",
   "execution_count": 81,
   "metadata": {},
   "outputs": [
    {
     "data": {
      "text/plain": [
       "<matplotlib.axes._subplots.AxesSubplot at 0xf56c970>"
      ]
     },
     "execution_count": 81,
     "metadata": {},
     "output_type": "execute_result"
    },
    {
     "data": {
      "image/png": "[encoded data removed]",
      "text/plain": [
       "<Figure size 792x216 with 1 Axes>"
      ]
     },
     "metadata": {},
     "output_type": "display_data"
    }
   ],
   "source": [
    "import seaborn as sns\n",
    "import matplotlib.pyplot as plt\n",
    "\n",
    "sns.set(style=\"white\", context=\"talk\")\n",
    "f, (ax) = plt.subplots(1, 1, figsize=(11, 3), sharex=True)\n",
    "\n",
    "dataset = pd.DataFrame({\"Models\":  [\"Linear Regression\", \"Decision Trees\", \"Random Forest\", \"Logistic Regression\"], \n",
    "                        \"Accuracy\": [accuracyLinR, accuracyDT, accuracyRF, accuracyLR]})\n",
    "\n",
    "dataset = dataset.sort_values(\"Accuracy\", ascending=False)\n",
    "\n",
    "dataset.head()\n",
    "\n",
    "sns.barplot(x = dataset[\"Models\"], y = dataset[\"Accuracy\"], palette=\"vlag\", ax = ax)"
   ]
  },
  {
   "cell_type": "markdown",
   "metadata": {},
   "source": [
    "# Conclusion (Results):\n",
    "The best model is **Random Forest**, as presented before with **73,13%** of accuracy. The ideal would be to improve the model and test other solutions to increase accuracy, but as presented in the instructions, this is a small test and so it ends here while fufilling it's purpose.\n",
    "\n",
    "Thank you!"
   ]
  }
 ],
 "metadata": {
  "kernelspec": {
   "display_name": "Python 3",
   "language": "python",
   "name": "python3"
  },
  "language_info": {
   "codemirror_mode": {
    "name": "ipython",
    "version": 3
   },
   "file_extension": ".py",
   "mimetype": "text/x-python",
   "name": "python",
   "nbconvert_exporter": "python",
   "pygments_lexer": "ipython3",
   "version": "3.7.2"
  }
 },
 "nbformat": 4,
 "nbformat_minor": 2
}
